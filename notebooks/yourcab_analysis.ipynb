{
 "cells": [
  {
   "attachments": {},
   "cell_type": "markdown",
   "metadata": {},
   "source": [
    "# YourCabs Analysis"
   ]
  },
  {
   "attachments": {},
   "cell_type": "markdown",
   "metadata": {},
   "source": [
    "### Description\n",
    "- ### Business problem tackled here is trying to improve customer service for YourCabs.com, a cab company in Bangalore.\n",
    "- ### The problem of interest is booking cancellations by the company due to unavailability of a car. The challenge is that cancellations can occur very close to the trip start time, thereby causing passengers inconvenience."
   ]
  },
  {
   "attachments": {},
   "cell_type": "markdown",
   "metadata": {},
   "source": [
    "### Goal\n",
    "- ### The goal of the competition is to create a predictive model for classifying new bookings as to whether they will eventually gets cancelled due to car unavailability."
   ]
  },
  {
   "attachments": {},
   "cell_type": "markdown",
   "metadata": {},
   "source": [
    "### Importing libraries and modules"
   ]
  },
  {
   "cell_type": "code",
   "execution_count": 56,
   "metadata": {},
   "outputs": [],
   "source": [
    "import pandas as pd\n",
    "import numpy as np\n",
    "import os\n",
    "from datetime import datetime as dt"
   ]
  },
  {
   "attachments": {},
   "cell_type": "markdown",
   "metadata": {},
   "source": [
    "### Fetching data from data source"
   ]
  },
  {
   "cell_type": "code",
   "execution_count": 57,
   "metadata": {},
   "outputs": [
    {
     "data": {
      "text/html": [
       "<div>\n",
       "<style scoped>\n",
       "    .dataframe tbody tr th:only-of-type {\n",
       "        vertical-align: middle;\n",
       "    }\n",
       "\n",
       "    .dataframe tbody tr th {\n",
       "        vertical-align: top;\n",
       "    }\n",
       "\n",
       "    .dataframe thead th {\n",
       "        text-align: right;\n",
       "    }\n",
       "</style>\n",
       "<table border=\"1\" class=\"dataframe\">\n",
       "  <thead>\n",
       "    <tr style=\"text-align: right;\">\n",
       "      <th></th>\n",
       "      <th>id</th>\n",
       "      <th>user_id</th>\n",
       "      <th>vehicle_model_id</th>\n",
       "      <th>package_id</th>\n",
       "      <th>travel_type_id</th>\n",
       "      <th>from_area_id</th>\n",
       "      <th>to_area_id</th>\n",
       "      <th>from_city_id</th>\n",
       "      <th>to_city_id</th>\n",
       "      <th>from_date</th>\n",
       "      <th>to_date</th>\n",
       "      <th>online_booking</th>\n",
       "      <th>mobile_site_booking</th>\n",
       "      <th>booking_created</th>\n",
       "      <th>from_lat</th>\n",
       "      <th>from_long</th>\n",
       "      <th>to_lat</th>\n",
       "      <th>to_long</th>\n",
       "      <th>Car_Cancellation</th>\n",
       "    </tr>\n",
       "  </thead>\n",
       "  <tbody>\n",
       "    <tr>\n",
       "      <th>0</th>\n",
       "      <td>132512</td>\n",
       "      <td>22177</td>\n",
       "      <td>28</td>\n",
       "      <td>NaN</td>\n",
       "      <td>2</td>\n",
       "      <td>83.0</td>\n",
       "      <td>448.0</td>\n",
       "      <td>NaN</td>\n",
       "      <td>NaN</td>\n",
       "      <td>1/1/2013 2:00</td>\n",
       "      <td>NaN</td>\n",
       "      <td>0</td>\n",
       "      <td>0</td>\n",
       "      <td>1/1/2013 1:39</td>\n",
       "      <td>12.924150</td>\n",
       "      <td>77.672290</td>\n",
       "      <td>12.927320</td>\n",
       "      <td>77.635750</td>\n",
       "      <td>0</td>\n",
       "    </tr>\n",
       "    <tr>\n",
       "      <th>1</th>\n",
       "      <td>132513</td>\n",
       "      <td>21413</td>\n",
       "      <td>12</td>\n",
       "      <td>NaN</td>\n",
       "      <td>2</td>\n",
       "      <td>1010.0</td>\n",
       "      <td>540.0</td>\n",
       "      <td>NaN</td>\n",
       "      <td>NaN</td>\n",
       "      <td>1/1/2013 9:00</td>\n",
       "      <td>NaN</td>\n",
       "      <td>0</td>\n",
       "      <td>0</td>\n",
       "      <td>1/1/2013 2:25</td>\n",
       "      <td>12.966910</td>\n",
       "      <td>77.749350</td>\n",
       "      <td>12.927680</td>\n",
       "      <td>77.626640</td>\n",
       "      <td>0</td>\n",
       "    </tr>\n",
       "    <tr>\n",
       "      <th>2</th>\n",
       "      <td>132514</td>\n",
       "      <td>22178</td>\n",
       "      <td>12</td>\n",
       "      <td>NaN</td>\n",
       "      <td>2</td>\n",
       "      <td>1301.0</td>\n",
       "      <td>1034.0</td>\n",
       "      <td>NaN</td>\n",
       "      <td>NaN</td>\n",
       "      <td>1/1/2013 3:30</td>\n",
       "      <td>NaN</td>\n",
       "      <td>0</td>\n",
       "      <td>0</td>\n",
       "      <td>1/1/2013 3:08</td>\n",
       "      <td>12.937222</td>\n",
       "      <td>77.626915</td>\n",
       "      <td>13.047926</td>\n",
       "      <td>77.597766</td>\n",
       "      <td>0</td>\n",
       "    </tr>\n",
       "    <tr>\n",
       "      <th>3</th>\n",
       "      <td>132515</td>\n",
       "      <td>13034</td>\n",
       "      <td>12</td>\n",
       "      <td>NaN</td>\n",
       "      <td>2</td>\n",
       "      <td>768.0</td>\n",
       "      <td>398.0</td>\n",
       "      <td>NaN</td>\n",
       "      <td>NaN</td>\n",
       "      <td>1/1/2013 5:45</td>\n",
       "      <td>NaN</td>\n",
       "      <td>0</td>\n",
       "      <td>0</td>\n",
       "      <td>1/1/2013 4:39</td>\n",
       "      <td>12.989990</td>\n",
       "      <td>77.553320</td>\n",
       "      <td>12.971430</td>\n",
       "      <td>77.639140</td>\n",
       "      <td>0</td>\n",
       "    </tr>\n",
       "    <tr>\n",
       "      <th>4</th>\n",
       "      <td>132517</td>\n",
       "      <td>22180</td>\n",
       "      <td>12</td>\n",
       "      <td>NaN</td>\n",
       "      <td>2</td>\n",
       "      <td>1365.0</td>\n",
       "      <td>849.0</td>\n",
       "      <td>NaN</td>\n",
       "      <td>NaN</td>\n",
       "      <td>1/1/2013 9:00</td>\n",
       "      <td>NaN</td>\n",
       "      <td>0</td>\n",
       "      <td>0</td>\n",
       "      <td>1/1/2013 7:53</td>\n",
       "      <td>12.845653</td>\n",
       "      <td>77.677925</td>\n",
       "      <td>12.954340</td>\n",
       "      <td>77.600720</td>\n",
       "      <td>0</td>\n",
       "    </tr>\n",
       "    <tr>\n",
       "      <th>...</th>\n",
       "      <td>...</td>\n",
       "      <td>...</td>\n",
       "      <td>...</td>\n",
       "      <td>...</td>\n",
       "      <td>...</td>\n",
       "      <td>...</td>\n",
       "      <td>...</td>\n",
       "      <td>...</td>\n",
       "      <td>...</td>\n",
       "      <td>...</td>\n",
       "      <td>...</td>\n",
       "      <td>...</td>\n",
       "      <td>...</td>\n",
       "      <td>...</td>\n",
       "      <td>...</td>\n",
       "      <td>...</td>\n",
       "      <td>...</td>\n",
       "      <td>...</td>\n",
       "      <td>...</td>\n",
       "    </tr>\n",
       "    <tr>\n",
       "      <th>43426</th>\n",
       "      <td>185937</td>\n",
       "      <td>14364</td>\n",
       "      <td>12</td>\n",
       "      <td>NaN</td>\n",
       "      <td>2</td>\n",
       "      <td>1147.0</td>\n",
       "      <td>452.0</td>\n",
       "      <td>15.0</td>\n",
       "      <td>NaN</td>\n",
       "      <td>11/24/2013 18:00</td>\n",
       "      <td>41602.82020</td>\n",
       "      <td>1</td>\n",
       "      <td>0</td>\n",
       "      <td>11/24/2013 14:25</td>\n",
       "      <td>13.030640</td>\n",
       "      <td>77.649100</td>\n",
       "      <td>12.952780</td>\n",
       "      <td>77.590880</td>\n",
       "      <td>0</td>\n",
       "    </tr>\n",
       "    <tr>\n",
       "      <th>43427</th>\n",
       "      <td>185938</td>\n",
       "      <td>48727</td>\n",
       "      <td>12</td>\n",
       "      <td>NaN</td>\n",
       "      <td>2</td>\n",
       "      <td>393.0</td>\n",
       "      <td>466.0</td>\n",
       "      <td>15.0</td>\n",
       "      <td>NaN</td>\n",
       "      <td>11/26/2013 1:00</td>\n",
       "      <td>41604.08037</td>\n",
       "      <td>1</td>\n",
       "      <td>0</td>\n",
       "      <td>11/24/2013 14:30</td>\n",
       "      <td>13.199560</td>\n",
       "      <td>77.706880</td>\n",
       "      <td>13.017436</td>\n",
       "      <td>77.644580</td>\n",
       "      <td>0</td>\n",
       "    </tr>\n",
       "    <tr>\n",
       "      <th>43428</th>\n",
       "      <td>185939</td>\n",
       "      <td>48729</td>\n",
       "      <td>12</td>\n",
       "      <td>1.0</td>\n",
       "      <td>3</td>\n",
       "      <td>974.0</td>\n",
       "      <td>NaN</td>\n",
       "      <td>15.0</td>\n",
       "      <td>NaN</td>\n",
       "      <td>11/24/2013 18:30</td>\n",
       "      <td>41602.97917</td>\n",
       "      <td>0</td>\n",
       "      <td>0</td>\n",
       "      <td>11/24/2013 14:35</td>\n",
       "      <td>13.075570</td>\n",
       "      <td>77.559040</td>\n",
       "      <td>NaN</td>\n",
       "      <td>NaN</td>\n",
       "      <td>0</td>\n",
       "    </tr>\n",
       "    <tr>\n",
       "      <th>43429</th>\n",
       "      <td>185940</td>\n",
       "      <td>30724</td>\n",
       "      <td>87</td>\n",
       "      <td>NaN</td>\n",
       "      <td>2</td>\n",
       "      <td>1263.0</td>\n",
       "      <td>542.0</td>\n",
       "      <td>15.0</td>\n",
       "      <td>NaN</td>\n",
       "      <td>11/24/2013 16:00</td>\n",
       "      <td>41602.69495</td>\n",
       "      <td>0</td>\n",
       "      <td>0</td>\n",
       "      <td>11/24/2013 14:43</td>\n",
       "      <td>12.968970</td>\n",
       "      <td>77.594560</td>\n",
       "      <td>12.938230</td>\n",
       "      <td>77.622890</td>\n",
       "      <td>0</td>\n",
       "    </tr>\n",
       "    <tr>\n",
       "      <th>43430</th>\n",
       "      <td>185941</td>\n",
       "      <td>48730</td>\n",
       "      <td>12</td>\n",
       "      <td>NaN</td>\n",
       "      <td>2</td>\n",
       "      <td>689.0</td>\n",
       "      <td>393.0</td>\n",
       "      <td>15.0</td>\n",
       "      <td>NaN</td>\n",
       "      <td>11/25/2013 5:00</td>\n",
       "      <td>41603.25385</td>\n",
       "      <td>0</td>\n",
       "      <td>1</td>\n",
       "      <td>11/24/2013 14:50</td>\n",
       "      <td>12.976720</td>\n",
       "      <td>77.649270</td>\n",
       "      <td>13.199560</td>\n",
       "      <td>77.706880</td>\n",
       "      <td>0</td>\n",
       "    </tr>\n",
       "  </tbody>\n",
       "</table>\n",
       "<p>43431 rows × 19 columns</p>\n",
       "</div>"
      ],
      "text/plain": [
       "           id  user_id  vehicle_model_id  package_id  travel_type_id   \n",
       "0      132512    22177                28         NaN               2  \\\n",
       "1      132513    21413                12         NaN               2   \n",
       "2      132514    22178                12         NaN               2   \n",
       "3      132515    13034                12         NaN               2   \n",
       "4      132517    22180                12         NaN               2   \n",
       "...       ...      ...               ...         ...             ...   \n",
       "43426  185937    14364                12         NaN               2   \n",
       "43427  185938    48727                12         NaN               2   \n",
       "43428  185939    48729                12         1.0               3   \n",
       "43429  185940    30724                87         NaN               2   \n",
       "43430  185941    48730                12         NaN               2   \n",
       "\n",
       "       from_area_id  to_area_id  from_city_id  to_city_id         from_date   \n",
       "0              83.0       448.0           NaN         NaN     1/1/2013 2:00  \\\n",
       "1            1010.0       540.0           NaN         NaN     1/1/2013 9:00   \n",
       "2            1301.0      1034.0           NaN         NaN     1/1/2013 3:30   \n",
       "3             768.0       398.0           NaN         NaN     1/1/2013 5:45   \n",
       "4            1365.0       849.0           NaN         NaN     1/1/2013 9:00   \n",
       "...             ...         ...           ...         ...               ...   \n",
       "43426        1147.0       452.0          15.0         NaN  11/24/2013 18:00   \n",
       "43427         393.0       466.0          15.0         NaN   11/26/2013 1:00   \n",
       "43428         974.0         NaN          15.0         NaN  11/24/2013 18:30   \n",
       "43429        1263.0       542.0          15.0         NaN  11/24/2013 16:00   \n",
       "43430         689.0       393.0          15.0         NaN   11/25/2013 5:00   \n",
       "\n",
       "           to_date  online_booking  mobile_site_booking   booking_created   \n",
       "0              NaN               0                    0     1/1/2013 1:39  \\\n",
       "1              NaN               0                    0     1/1/2013 2:25   \n",
       "2              NaN               0                    0     1/1/2013 3:08   \n",
       "3              NaN               0                    0     1/1/2013 4:39   \n",
       "4              NaN               0                    0     1/1/2013 7:53   \n",
       "...            ...             ...                  ...               ...   \n",
       "43426  41602.82020               1                    0  11/24/2013 14:25   \n",
       "43427  41604.08037               1                    0  11/24/2013 14:30   \n",
       "43428  41602.97917               0                    0  11/24/2013 14:35   \n",
       "43429  41602.69495               0                    0  11/24/2013 14:43   \n",
       "43430  41603.25385               0                    1  11/24/2013 14:50   \n",
       "\n",
       "        from_lat  from_long     to_lat    to_long  Car_Cancellation  \n",
       "0      12.924150  77.672290  12.927320  77.635750                 0  \n",
       "1      12.966910  77.749350  12.927680  77.626640                 0  \n",
       "2      12.937222  77.626915  13.047926  77.597766                 0  \n",
       "3      12.989990  77.553320  12.971430  77.639140                 0  \n",
       "4      12.845653  77.677925  12.954340  77.600720                 0  \n",
       "...          ...        ...        ...        ...               ...  \n",
       "43426  13.030640  77.649100  12.952780  77.590880                 0  \n",
       "43427  13.199560  77.706880  13.017436  77.644580                 0  \n",
       "43428  13.075570  77.559040        NaN        NaN                 0  \n",
       "43429  12.968970  77.594560  12.938230  77.622890                 0  \n",
       "43430  12.976720  77.649270  13.199560  77.706880                 0  \n",
       "\n",
       "[43431 rows x 19 columns]"
      ]
     },
     "execution_count": 57,
     "metadata": {},
     "output_type": "execute_result"
    }
   ],
   "source": [
    "cwd = os.path.dirname(os.getcwd())\n",
    "data_path = os.path.join(cwd,'data','YourCabs.csv')\n",
    "raw_data = pd.read_csv(data_path)\n",
    "raw_data"
   ]
  },
  {
   "attachments": {},
   "cell_type": "markdown",
   "metadata": {},
   "source": [
    "### Field descriptions:\n",
    "\n",
    "- id - booking ID\n",
    "- user_id - the ID of the customer (based on mobile number)\n",
    "- vehicle_model_id - vehicle model type.\n",
    "- package_id - type of package \n",
    "    - (1=4hrs & 40kms, 2=8hrs & 80kms, 3=6hrs & 60kms, 4= 10hrs & 100kms, 5=5hrs & 50kms, 6=3hrs & 30kms, 7=12hrs & 120kms)\n",
    "- travel_type_id - type of travel (1=long distance, 2= point to point, 3= hourly rental).\n",
    "- from_area_id - unique identifier of area. Applicable only for point-to-point travel and packages\n",
    "- to_area_id - unique identifier of area. Applicable only for point-to-point travel\n",
    "- from_city_id - unique identifier of city\n",
    "- to_city_id - unique identifier of city (only for intercity)\n",
    "- from_date - time stamp of requested trip start\n",
    "- to_date - time stamp of trip end\n",
    "- online_booking - if booking was done on desktop website\n",
    "- mobile_site_booking - if booking was done on mobile website\n",
    "- booking_created - time stamp of booking\n",
    "- from_lat - latitude of from area\n",
    "- from_long - longitude of from area\n",
    "- to_lat - latitude of to area\n",
    "- to_long - longitude of to area\n",
    "- Car_Cancellation - whether the booking was cancelled (1) or not (0) due to unavailability of a car."
   ]
  },
  {
   "attachments": {},
   "cell_type": "markdown",
   "metadata": {},
   "source": [
    "# Data cleaning and preprocessing"
   ]
  },
  {
   "attachments": {},
   "cell_type": "markdown",
   "metadata": {},
   "source": [
    "### Checking Column names"
   ]
  },
  {
   "cell_type": "code",
   "execution_count": 58,
   "metadata": {},
   "outputs": [
    {
     "data": {
      "text/plain": [
       "Index(['id', 'user_id', 'vehicle_model_id', 'package_id', 'travel_type_id',\n",
       "       'from_area_id', 'to_area_id', 'from_city_id', 'to_city_id', 'from_date',\n",
       "       'to_date', 'online_booking', 'mobile_site_booking', 'booking_created',\n",
       "       'from_lat', 'from_long', 'to_lat', 'to_long', 'Car_Cancellation'],\n",
       "      dtype='object')"
      ]
     },
     "execution_count": 58,
     "metadata": {},
     "output_type": "execute_result"
    }
   ],
   "source": [
    "raw_data.columns"
   ]
  },
  {
   "attachments": {},
   "cell_type": "markdown",
   "metadata": {},
   "source": [
    "- All the columns are correct and meaningful , there are no unecessary whitespace."
   ]
  },
  {
   "attachments": {},
   "cell_type": "markdown",
   "metadata": {},
   "source": [
    "### Checking dtypes"
   ]
  },
  {
   "cell_type": "code",
   "execution_count": 59,
   "metadata": {},
   "outputs": [
    {
     "data": {
      "text/plain": [
       "id                       int64\n",
       "user_id                  int64\n",
       "vehicle_model_id         int64\n",
       "package_id             float64\n",
       "travel_type_id           int64\n",
       "from_area_id           float64\n",
       "to_area_id             float64\n",
       "from_city_id           float64\n",
       "to_city_id             float64\n",
       "from_date               object\n",
       "to_date                float64\n",
       "online_booking           int64\n",
       "mobile_site_booking      int64\n",
       "booking_created         object\n",
       "from_lat               float64\n",
       "from_long              float64\n",
       "to_lat                 float64\n",
       "to_long                float64\n",
       "Car_Cancellation         int64\n",
       "dtype: object"
      ]
     },
     "execution_count": 59,
     "metadata": {},
     "output_type": "execute_result"
    }
   ],
   "source": [
    "raw_data.dtypes"
   ]
  },
  {
   "attachments": {},
   "cell_type": "markdown",
   "metadata": {},
   "source": [
    "- 'id','user_id','vehicle_model_id','package_id','travel_type_id','from_area_id','to_area_id','from_city_id','to_city_id','online_booking','mobile_site_booking',  \n",
    "- 'from_lat''from_long','to_lat','to_long','Car_Cancellation' \n",
    "- These columns should be Object data type as it is categorical data.\n",
    "- 'from_date','to_date','booking_created' should be datetime data type.\n",
    "- 'to_date' has the julian time type"
   ]
  },
  {
   "cell_type": "code",
   "execution_count": 60,
   "metadata": {},
   "outputs": [],
   "source": [
    "# Changing the column dtypes to object\n",
    "raw_data[['id','user_id','vehicle_model_id','package_id','travel_type_id','from_area_id','to_area_id',\n",
    "                                       'from_city_id','to_city_id','online_booking',\n",
    "                                       'mobile_site_booking','from_lat','from_long','to_lat','to_long',\n",
    "                                       'Car_Cancellation']] = raw_data[['id','user_id','vehicle_model_id','package_id','travel_type_id','from_area_id','to_area_id',\n",
    "                                                                        'from_city_id','to_city_id','online_booking','mobile_site_booking',\n",
    "                                                                        'from_lat','from_long','to_lat','to_long',\n",
    "                                                                        'Car_Cancellation']].astype('object')\n",
    "\n",
    "# Changing the date to date column to appropiate data type\n",
    "raw_data[['from_date','booking_created']] = raw_data[['from_date','booking_created']].astype('datetime64[s]')\n",
    "\n",
    "\n",
    "# converting julian type to datetime64[s]\n",
    "def julian_to_date_time(x):\n",
    "    tp =pd.to_datetime(x,unit='D',origin=pd.Timestamp(\"30-12-1899\"))\n",
    "    return tp\n",
    "\n",
    "raw_data['to_date'] = raw_data['to_date'].apply(julian_to_date_time)\n",
    "raw_data['to_date'] = raw_data['to_date'].astype('datetime64[s]')"
   ]
  },
  {
   "cell_type": "code",
   "execution_count": 61,
   "metadata": {},
   "outputs": [
    {
     "data": {
      "text/plain": [
       "id                            object\n",
       "user_id                       object\n",
       "vehicle_model_id              object\n",
       "package_id                    object\n",
       "travel_type_id                object\n",
       "from_area_id                  object\n",
       "to_area_id                    object\n",
       "from_city_id                  object\n",
       "to_city_id                    object\n",
       "from_date              datetime64[s]\n",
       "to_date                datetime64[s]\n",
       "online_booking                object\n",
       "mobile_site_booking           object\n",
       "booking_created        datetime64[s]\n",
       "from_lat                      object\n",
       "from_long                     object\n",
       "to_lat                        object\n",
       "to_long                       object\n",
       "Car_Cancellation              object\n",
       "dtype: object"
      ]
     },
     "execution_count": 61,
     "metadata": {},
     "output_type": "execute_result"
    }
   ],
   "source": [
    "raw_data.dtypes"
   ]
  },
  {
   "attachments": {},
   "cell_type": "markdown",
   "metadata": {},
   "source": [
    "### Counting number of missing values for each field"
   ]
  },
  {
   "cell_type": "code",
   "execution_count": 62,
   "metadata": {},
   "outputs": [
    {
     "data": {
      "text/plain": [
       "id                         0\n",
       "user_id                    0\n",
       "vehicle_model_id           0\n",
       "package_id             35881\n",
       "travel_type_id             0\n",
       "from_area_id              88\n",
       "to_area_id              9138\n",
       "from_city_id           27086\n",
       "to_city_id             41843\n",
       "from_date                  0\n",
       "to_date                17890\n",
       "online_booking             0\n",
       "mobile_site_booking        0\n",
       "booking_created            0\n",
       "from_lat                  93\n",
       "from_long                 93\n",
       "to_lat                  9138\n",
       "to_long                 9138\n",
       "Car_Cancellation           0\n",
       "dtype: int64"
      ]
     },
     "execution_count": 62,
     "metadata": {},
     "output_type": "execute_result"
    }
   ],
   "source": [
    "raw_data.isna().sum()"
   ]
  },
  {
   "attachments": {},
   "cell_type": "markdown",
   "metadata": {},
   "source": [
    "### Checking Value count of Target variable"
   ]
  },
  {
   "cell_type": "code",
   "execution_count": 63,
   "metadata": {},
   "outputs": [
    {
     "data": {
      "text/plain": [
       "Car_Cancellation\n",
       "0    40299\n",
       "1     3132\n",
       "Name: count, dtype: int64"
      ]
     },
     "execution_count": 63,
     "metadata": {},
     "output_type": "execute_result"
    }
   ],
   "source": [
    "raw_data.Car_Cancellation.value_counts(dropna=False)"
   ]
  },
  {
   "attachments": {},
   "cell_type": "markdown",
   "metadata": {},
   "source": [
    "- This is a situation of imbalance data "
   ]
  },
  {
   "attachments": {},
   "cell_type": "markdown",
   "metadata": {},
   "source": [
    "### Checking number of unique values of each feature"
   ]
  },
  {
   "cell_type": "code",
   "execution_count": 64,
   "metadata": {},
   "outputs": [
    {
     "data": {
      "text/plain": [
       "id                     43431\n",
       "user_id                22267\n",
       "vehicle_model_id          27\n",
       "package_id                 8\n",
       "travel_type_id             3\n",
       "from_area_id             599\n",
       "to_area_id               569\n",
       "from_city_id               4\n",
       "to_city_id               117\n",
       "from_date              20377\n",
       "to_date                22145\n",
       "online_booking             2\n",
       "mobile_site_booking        2\n",
       "booking_created        39349\n",
       "from_lat                 467\n",
       "from_long                463\n",
       "to_lat                   451\n",
       "to_long                  448\n",
       "Car_Cancellation           2\n",
       "dtype: int64"
      ]
     },
     "execution_count": 64,
     "metadata": {},
     "output_type": "execute_result"
    }
   ],
   "source": [
    "raw_data.nunique(dropna=False)"
   ]
  },
  {
   "attachments": {},
   "cell_type": "markdown",
   "metadata": {},
   "source": [
    "- There are 22267 users using the yourcab service\n",
    "- There are 27 different vechicals in the yourcab service"
   ]
  },
  {
   "attachments": {},
   "cell_type": "markdown",
   "metadata": {},
   "source": [
    "### Checking for Duplicates"
   ]
  },
  {
   "cell_type": "code",
   "execution_count": 65,
   "metadata": {},
   "outputs": [
    {
     "data": {
      "text/plain": [
       "id                     0\n",
       "user_id                0\n",
       "vehicle_model_id       0\n",
       "package_id             0\n",
       "travel_type_id         0\n",
       "from_area_id           0\n",
       "to_area_id             0\n",
       "from_city_id           0\n",
       "to_city_id             0\n",
       "from_date              0\n",
       "to_date                0\n",
       "online_booking         0\n",
       "mobile_site_booking    0\n",
       "booking_created        0\n",
       "from_lat               0\n",
       "from_long              0\n",
       "to_lat                 0\n",
       "to_long                0\n",
       "Car_Cancellation       0\n",
       "dtype: int64"
      ]
     },
     "execution_count": 65,
     "metadata": {},
     "output_type": "execute_result"
    }
   ],
   "source": [
    "raw_data[raw_data.duplicated()==True].count()"
   ]
  },
  {
   "attachments": {},
   "cell_type": "markdown",
   "metadata": {},
   "source": [
    "# Feature Engineering"
   ]
  },
  {
   "attachments": {},
   "cell_type": "markdown",
   "metadata": {},
   "source": [
    "### Adding season feature extracted from the from_date"
   ]
  },
  {
   "cell_type": "code",
   "execution_count": 66,
   "metadata": {},
   "outputs": [],
   "source": [
    "def season(from_date):\n",
    "    month = from_date.month\n",
    "\n",
    "    if month in [2,3]:\n",
    "        return 1\n",
    "    \n",
    "    elif month in [4,5,6]:\n",
    "        return 2\n",
    "    elif month in [7,8,9]:\n",
    "        return 3\n",
    "    else:\n",
    "        return 4\n",
    "    \n",
    "raw_data['season'] = raw_data.from_date.apply(season)\n",
    "raw_data['season'] = raw_data['season'].astype('object')"
   ]
  },
  {
   "attachments": {},
   "cell_type": "markdown",
   "metadata": {},
   "source": [
    "- {spring: 1 , summer:2 , autumn : 3 , winter : 4 }"
   ]
  },
  {
   "attachments": {},
   "cell_type": "markdown",
   "metadata": {},
   "source": [
    "### Adding day of week "
   ]
  },
  {
   "cell_type": "code",
   "execution_count": 67,
   "metadata": {},
   "outputs": [],
   "source": [
    "def day_of_week(from_date):\n",
    "    day = from_date.day_of_week\n",
    "    return day\n",
    "\n",
    "raw_data['day_of_departure'] = raw_data['from_date'].apply(day_of_week)\n",
    "raw_data['day_of_departure'] = raw_data['day_of_departure'].astype('object')"
   ]
  },
  {
   "attachments": {},
   "cell_type": "markdown",
   "metadata": {},
   "source": [
    "- {monday:0,tuesday:1,wednesday:2,thursday:3,friday:4,saturday:5,sunday:6}"
   ]
  },
  {
   "attachments": {},
   "cell_type": "markdown",
   "metadata": {},
   "source": [
    "### Adding time of day"
   ]
  },
  {
   "cell_type": "code",
   "execution_count": 68,
   "metadata": {},
   "outputs": [],
   "source": [
    "def hour_of_dep(from_date):\n",
    "    hour = from_date.hour\n",
    "    \n",
    "    if hour >=0 and hour<=5:\n",
    "        return 0\n",
    "    elif hour >=6 and hour<=12:\n",
    "        return 1\n",
    "    elif hour >=1 and hour <=6:\n",
    "        return 2\n",
    "    else:\n",
    "        return 3\n",
    "\n",
    "raw_data['hour_of_departure'] = raw_data['from_date'].apply(hour_of_dep)\n",
    "raw_data['hour_of_departure'] = raw_data['hour_of_departure'].astype('object')"
   ]
  },
  {
   "attachments": {},
   "cell_type": "markdown",
   "metadata": {},
   "source": [
    "- {mid-night : 0 , morning : 1 , afternoon : 2, evening_night = 3 }"
   ]
  },
  {
   "attachments": {},
   "cell_type": "markdown",
   "metadata": {},
   "source": [
    "### Time difference between booking created and from date of departure"
   ]
  },
  {
   "cell_type": "code",
   "execution_count": 69,
   "metadata": {},
   "outputs": [],
   "source": [
    "diff = []\n",
    "for i in range(raw_data.shape[0]):\n",
    "   diff.append((raw_data['from_date'][i] - raw_data['booking_created'][i]).total_seconds()/(60*60))\n",
    "\n",
    "diff = np.array(diff)\n",
    "raw_data['gap_hours'] = pd.Series(diff)"
   ]
  },
  {
   "attachments": {},
   "cell_type": "markdown",
   "metadata": {},
   "source": [
    "## Separation of dataset by the travel_id field"
   ]
  },
  {
   "cell_type": "code",
   "execution_count": 83,
   "metadata": {},
   "outputs": [],
   "source": [
    "long_dis = raw_data[raw_data['travel_type_id'] == 1]\n",
    "ptp = raw_data[raw_data['travel_type_id'] == 2]\n",
    "rental = raw_data[raw_data['travel_type_id'] == 3]"
   ]
  }
 ],
 "metadata": {
  "kernelspec": {
   "display_name": "base",
   "language": "python",
   "name": "python3"
  },
  "language_info": {
   "codemirror_mode": {
    "name": "ipython",
    "version": 3
   },
   "file_extension": ".py",
   "mimetype": "text/x-python",
   "name": "python",
   "nbconvert_exporter": "python",
   "pygments_lexer": "ipython3",
   "version": "3.9.16"
  },
  "orig_nbformat": 4
 },
 "nbformat": 4,
 "nbformat_minor": 2
}
